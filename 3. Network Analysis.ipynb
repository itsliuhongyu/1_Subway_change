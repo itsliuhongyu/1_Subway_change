{
 "cells": [
  {
   "cell_type": "code",
   "execution_count": 2,
   "id": "b436cd62",
   "metadata": {},
   "outputs": [
    {
     "data": {
      "text/html": [
       "<div>\n",
       "<style scoped>\n",
       "    .dataframe tbody tr th:only-of-type {\n",
       "        vertical-align: middle;\n",
       "    }\n",
       "\n",
       "    .dataframe tbody tr th {\n",
       "        vertical-align: top;\n",
       "    }\n",
       "\n",
       "    .dataframe thead th {\n",
       "        text-align: right;\n",
       "    }\n",
       "</style>\n",
       "<table border=\"1\" class=\"dataframe\">\n",
       "  <thead>\n",
       "    <tr style=\"text-align: right;\">\n",
       "      <th></th>\n",
       "      <th>From</th>\n",
       "      <th>To</th>\n",
       "      <th>Distance</th>\n",
       "      <th>Line</th>\n",
       "    </tr>\n",
       "  </thead>\n",
       "  <tbody>\n",
       "    <tr>\n",
       "      <th>0</th>\n",
       "      <td>古城</td>\n",
       "      <td>八角游乐园</td>\n",
       "      <td>1921</td>\n",
       "      <td>1号线</td>\n",
       "    </tr>\n",
       "    <tr>\n",
       "      <th>1</th>\n",
       "      <td>八角游乐园</td>\n",
       "      <td>八宝山</td>\n",
       "      <td>1953</td>\n",
       "      <td>1号线</td>\n",
       "    </tr>\n",
       "    <tr>\n",
       "      <th>2</th>\n",
       "      <td>八宝山</td>\n",
       "      <td>玉泉路</td>\n",
       "      <td>1479</td>\n",
       "      <td>1号线</td>\n",
       "    </tr>\n",
       "    <tr>\n",
       "      <th>3</th>\n",
       "      <td>玉泉路</td>\n",
       "      <td>五棵松</td>\n",
       "      <td>1810</td>\n",
       "      <td>1号线</td>\n",
       "    </tr>\n",
       "    <tr>\n",
       "      <th>4</th>\n",
       "      <td>五棵松</td>\n",
       "      <td>万寿路</td>\n",
       "      <td>1778</td>\n",
       "      <td>1号线</td>\n",
       "    </tr>\n",
       "    <tr>\n",
       "      <th>...</th>\n",
       "      <td>...</td>\n",
       "      <td>...</td>\n",
       "      <td>...</td>\n",
       "      <td>...</td>\n",
       "    </tr>\n",
       "    <tr>\n",
       "      <th>401</th>\n",
       "      <td>花庄</td>\n",
       "      <td>环球度假区</td>\n",
       "      <td>1863</td>\n",
       "      <td>八通线</td>\n",
       "    </tr>\n",
       "    <tr>\n",
       "      <th>402</th>\n",
       "      <td>东直门</td>\n",
       "      <td>北新桥</td>\n",
       "      <td>1622</td>\n",
       "      <td>首都机场线</td>\n",
       "    </tr>\n",
       "    <tr>\n",
       "      <th>403</th>\n",
       "      <td>三元桥</td>\n",
       "      <td>东直门</td>\n",
       "      <td>3022</td>\n",
       "      <td>首都机场线</td>\n",
       "    </tr>\n",
       "    <tr>\n",
       "      <th>404</th>\n",
       "      <td>2号航站楼</td>\n",
       "      <td>3号航站楼</td>\n",
       "      <td>20738</td>\n",
       "      <td>首都机场线</td>\n",
       "    </tr>\n",
       "    <tr>\n",
       "      <th>405</th>\n",
       "      <td>3号航站楼</td>\n",
       "      <td>三元桥</td>\n",
       "      <td>18322</td>\n",
       "      <td>首都机场线</td>\n",
       "    </tr>\n",
       "  </tbody>\n",
       "</table>\n",
       "<p>406 rows × 4 columns</p>\n",
       "</div>"
      ],
      "text/plain": [
       "      From     To  Distance   Line\n",
       "0       古城  八角游乐园      1921    1号线\n",
       "1    八角游乐园    八宝山      1953    1号线\n",
       "2      八宝山    玉泉路      1479    1号线\n",
       "3      玉泉路    五棵松      1810    1号线\n",
       "4      五棵松    万寿路      1778    1号线\n",
       "..     ...    ...       ...    ...\n",
       "401     花庄  环球度假区      1863    八通线\n",
       "402    东直门    北新桥      1622  首都机场线\n",
       "403    三元桥    东直门      3022  首都机场线\n",
       "404  2号航站楼  3号航站楼     20738  首都机场线\n",
       "405  3号航站楼    三元桥     18322  首都机场线\n",
       "\n",
       "[406 rows x 4 columns]"
      ]
     },
     "execution_count": 2,
     "metadata": {},
     "output_type": "execute_result"
    }
   ],
   "source": [
    "import pandas as pd\n",
    "\n",
    "df = pd.read_csv(\"cleanstations.csv\")\n",
    "df = df.drop(columns=['Unnamed: 0'])\n",
    "df"
   ]
  },
  {
   "cell_type": "code",
   "execution_count": 3,
   "id": "be6fca7f",
   "metadata": {},
   "outputs": [],
   "source": [
    "import networkx as nx\n",
    "import matplotlib.pyplot as plt"
   ]
  },
  {
   "cell_type": "code",
   "execution_count": 16,
   "id": "33afdb8b",
   "metadata": {},
   "outputs": [
    {
     "data": {
      "text/plain": [
       "<networkx.classes.graph.Graph at 0x114452a10>"
      ]
     },
     "execution_count": 16,
     "metadata": {},
     "output_type": "execute_result"
    }
   ],
   "source": [
    "G = nx.from_pandas_edgelist(df, source='From', target='To', edge_attr=True)\n",
    "G"
   ]
  },
  {
   "cell_type": "markdown",
   "id": "674880f6",
   "metadata": {},
   "source": [
    "## Testing the network calculator"
   ]
  },
  {
   "cell_type": "code",
   "execution_count": 23,
   "id": "5ea7f4c6",
   "metadata": {},
   "outputs": [
    {
     "data": {
      "text/plain": [
       "['东直门', '东四十条', '朝阳门', '东四', '南锣鼓巷', '北海北', '平安里', '新街口', '西直门']"
      ]
     },
     "execution_count": 23,
     "metadata": {},
     "output_type": "execute_result"
    }
   ],
   "source": [
    "nx.shortest_path(G, '东直门', '西直门', weight='Distance')\n",
    "#nx.shortest_path(G.graph['Line'] = \"2号线\", '东直门', '西直门', weight='Distance')\n"
   ]
  },
  {
   "cell_type": "code",
   "execution_count": 9,
   "id": "d861b518",
   "metadata": {},
   "outputs": [
    {
     "data": {
      "text/plain": [
       "9984"
      ]
     },
     "execution_count": 9,
     "metadata": {},
     "output_type": "execute_result"
    }
   ],
   "source": [
    "nx.shortest_path_length(G, '东直门', '西直门', weight='Distance')"
   ]
  },
  {
   "cell_type": "code",
   "execution_count": null,
   "id": "1a859a24",
   "metadata": {},
   "outputs": [],
   "source": []
  }
 ],
 "metadata": {
  "kernelspec": {
   "display_name": "Python 3 (ipykernel)",
   "language": "python",
   "name": "python3"
  },
  "language_info": {
   "codemirror_mode": {
    "name": "ipython",
    "version": 3
   },
   "file_extension": ".py",
   "mimetype": "text/x-python",
   "name": "python",
   "nbconvert_exporter": "python",
   "pygments_lexer": "ipython3",
   "version": "3.11.0rc2"
  }
 },
 "nbformat": 4,
 "nbformat_minor": 5
}
