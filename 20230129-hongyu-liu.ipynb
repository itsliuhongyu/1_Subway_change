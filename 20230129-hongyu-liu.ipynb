{
 "cells": [
  {
   "cell_type": "code",
   "execution_count": 1,
   "id": "f832aa5a-cf56-4c93-b4a3-5d409ed318e1",
   "metadata": {},
   "outputs": [],
   "source": [
    "import pandas as pd\n",
    "import networkx as nx\n",
    "import matplotlib.pyplot as plt"
   ]
  },
  {
   "cell_type": "code",
   "execution_count": 2,
   "id": "bca99a95-e95a-4fe0-a8df-7b24db136b39",
   "metadata": {},
   "outputs": [
    {
     "data": {
      "text/html": [
       "<div>\n",
       "<style scoped>\n",
       "    .dataframe tbody tr th:only-of-type {\n",
       "        vertical-align: middle;\n",
       "    }\n",
       "\n",
       "    .dataframe tbody tr th {\n",
       "        vertical-align: top;\n",
       "    }\n",
       "\n",
       "    .dataframe thead th {\n",
       "        text-align: right;\n",
       "    }\n",
       "</style>\n",
       "<table border=\"1\" class=\"dataframe\">\n",
       "  <thead>\n",
       "    <tr style=\"text-align: right;\">\n",
       "      <th></th>\n",
       "      <th>From</th>\n",
       "      <th>To</th>\n",
       "      <th>Distance</th>\n",
       "      <th>Line</th>\n",
       "    </tr>\n",
       "  </thead>\n",
       "  <tbody>\n",
       "    <tr>\n",
       "      <th>0</th>\n",
       "      <td>古城</td>\n",
       "      <td>八角游乐园</td>\n",
       "      <td>1921</td>\n",
       "      <td>1号线</td>\n",
       "    </tr>\n",
       "    <tr>\n",
       "      <th>1</th>\n",
       "      <td>八角游乐园</td>\n",
       "      <td>八宝山</td>\n",
       "      <td>1953</td>\n",
       "      <td>1号线</td>\n",
       "    </tr>\n",
       "    <tr>\n",
       "      <th>2</th>\n",
       "      <td>八宝山</td>\n",
       "      <td>玉泉路</td>\n",
       "      <td>1479</td>\n",
       "      <td>1号线</td>\n",
       "    </tr>\n",
       "    <tr>\n",
       "      <th>3</th>\n",
       "      <td>玉泉路</td>\n",
       "      <td>五棵松</td>\n",
       "      <td>1810</td>\n",
       "      <td>1号线</td>\n",
       "    </tr>\n",
       "    <tr>\n",
       "      <th>4</th>\n",
       "      <td>五棵松</td>\n",
       "      <td>万寿路</td>\n",
       "      <td>1778</td>\n",
       "      <td>1号线</td>\n",
       "    </tr>\n",
       "  </tbody>\n",
       "</table>\n",
       "</div>"
      ],
      "text/plain": [
       "    From     To  Distance Line\n",
       "0     古城  八角游乐园      1921  1号线\n",
       "1  八角游乐园    八宝山      1953  1号线\n",
       "2    八宝山    玉泉路      1479  1号线\n",
       "3    玉泉路    五棵松      1810  1号线\n",
       "4    五棵松    万寿路      1778  1号线"
      ]
     },
     "execution_count": 2,
     "metadata": {},
     "output_type": "execute_result"
    }
   ],
   "source": [
    "df_paths = pd.read_csv(\"../../data/raw/20230129/cleanstations.csv\")\n",
    "df_paths = df_paths.drop(columns=['Unnamed: 0'])\n",
    "df_paths.head()"
   ]
  },
  {
   "cell_type": "code",
   "execution_count": 10,
   "id": "5cd4c8c3-e62d-4935-9f4b-6b380366256d",
   "metadata": {},
   "outputs": [],
   "source": [
    "station_start = '东直门'\n",
    "station_end = '西直门'\n",
    "\n",
    "df_paths_start_end = df_paths[\n",
    "    (df_paths['From'] == station_start) |\n",
    "    (df_paths['From'] == station_end) |\n",
    "    (df_paths['To'] == station_start) |\n",
    "    (df_paths['To'] == station_end)\n",
    "]\n",
    "arr_lines = df_paths_start_end['Line'].unique()\n",
    "\n",
    "df_paths_filtered = df_paths[df_paths['Line'].isin(arr_lines)]"
   ]
  },
  {
   "cell_type": "code",
   "execution_count": 15,
   "id": "5b8c7ce3-85cf-4437-b62b-58b7fbc09091",
   "metadata": {},
   "outputs": [
    {
     "name": "stdout",
     "output_type": "stream",
     "text": [
      "8\n",
      "9\n"
     ]
    }
   ],
   "source": [
    "G = nx.from_pandas_edgelist(df_paths_filtered, source='From', target='To', edge_attr=True)\n",
    "for p in nx.all_simple_paths(G, '东直门', '西直门'):\n",
    "    print(len(df_paths[df_paths['From'].isin(p)]['Line'].value_counts()))"
   ]
  },
  {
   "cell_type": "code",
   "execution_count": null,
   "id": "44244a97-7512-4e49-912d-6d417ab04197",
   "metadata": {},
   "outputs": [],
   "source": []
  }
 ],
 "metadata": {
  "kernelspec": {
   "display_name": "Python 3 (ipykernel)",
   "language": "python",
   "name": "python3"
  },
  "language_info": {
   "codemirror_mode": {
    "name": "ipython",
    "version": 3
   },
   "file_extension": ".py",
   "mimetype": "text/x-python",
   "name": "python",
   "nbconvert_exporter": "python",
   "pygments_lexer": "ipython3",
   "version": "3.11.0rc2"
  }
 },
 "nbformat": 4,
 "nbformat_minor": 5
}
